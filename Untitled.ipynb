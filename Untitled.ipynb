{
 "cells": [
  {
   "cell_type": "code",
   "execution_count": 3,
   "id": "515a24d2-7df5-48fc-baa3-4fdc9ec61000",
   "metadata": {},
   "outputs": [
    {
     "data": {
      "text/plain": [
       "'strstrstrstrstrstrstrstrstrstr'"
      ]
     },
     "execution_count": 3,
     "metadata": {},
     "output_type": "execute_result"
    }
   ],
   "source": [
    "10* \"str\""
   ]
  },
  {
   "cell_type": "code",
   "execution_count": 11,
   "id": "8d5dde62-e7a1-4ea5-b607-36cab466ae38",
   "metadata": {},
   "outputs": [
    {
     "data": {
      "text/plain": [
       "str"
      ]
     },
     "execution_count": 11,
     "metadata": {},
     "output_type": "execute_result"
    }
   ],
   "source": [
    "type(\"srt\")"
   ]
  },
  {
   "cell_type": "code",
   "execution_count": 9,
   "id": "0833926c-d815-4cc3-bd56-e35520a19ce0",
   "metadata": {},
   "outputs": [
    {
     "data": {
      "text/plain": [
       "bool"
      ]
     },
     "execution_count": 9,
     "metadata": {},
     "output_type": "execute_result"
    }
   ],
   "source": [
    "type(True)"
   ]
  },
  {
   "cell_type": "code",
   "execution_count": 13,
   "id": "e80ee938-7ed0-4b58-a0fe-5861855ae933",
   "metadata": {},
   "outputs": [
    {
     "name": "stdout",
     "output_type": "stream",
     "text": [
      "200\n",
      "0.5\n",
      "10\n",
      "10\n"
     ]
    }
   ],
   "source": [
    "# Variable Assignment\n",
    "\n",
    "a=10\n",
    "b=20\n",
    "\n",
    "print(a*b)\n",
    "print(a/b)\n",
    "print(a%b)\n",
    "print (b-a)\n"
   ]
  },
  {
   "cell_type": "code",
   "execution_count": 12,
   "id": "38982ae2-948f-4ac2-8ee6-6b170505f05a",
   "metadata": {},
   "outputs": [
    {
     "ename": "NameError",
     "evalue": "name 'a' is not defined",
     "output_type": "error",
     "traceback": [
      "\u001b[1;31m---------------------------------------------------------------------------\u001b[0m",
      "\u001b[1;31mNameError\u001b[0m                                 Traceback (most recent call last)",
      "Cell \u001b[1;32mIn[12], line 1\u001b[0m\n\u001b[1;32m----> 1\u001b[0m \u001b[38;5;28mprint\u001b[39m(a\u001b[38;5;241m*\u001b[39mb)\n\u001b[0;32m      2\u001b[0m \u001b[38;5;28mprint\u001b[39m(a\u001b[38;5;241m/\u001b[39mb)\n\u001b[0;32m      3\u001b[0m \u001b[38;5;28mprint\u001b[39m(a\u001b[38;5;241m%\u001b[39mb)\n",
      "\u001b[1;31mNameError\u001b[0m: name 'a' is not defined"
     ]
    }
   ],
   "source": []
  },
  {
   "cell_type": "code",
   "execution_count": 14,
   "id": "66a6cf62-7348-4d59-ba2c-a453816eb217",
   "metadata": {},
   "outputs": [
    {
     "name": "stdout",
     "output_type": "stream",
     "text": [
      "My first name is phanee and my last name is cherkup\n"
     ]
    }
   ],
   "source": [
    "first_name=\"phanee\"\n",
    "last_name=\"cherkup\"\n",
    "\n",
    "print(\"My first name is {first} and my last name is {last}\".format(first=first_name,last=last_name));"
   ]
  },
  {
   "cell_type": "code",
   "execution_count": null,
   "id": "debc9228-171a-4b4e-8303-6a987577ef0e",
   "metadata": {},
   "outputs": [],
   "source": []
  },
  {
   "cell_type": "raw",
   "id": "7ddfccd6-a8a6-4942-b697-1d28ecbf3c23",
   "metadata": {},
   "source": [
    "# Hello Phanee, welcome to Python world\n",
    "# List\n",
    "        "
   ]
  },
  {
   "cell_type": "code",
   "execution_count": 22,
   "id": "e5c6dee5-b15f-437b-b26e-0a8cb6ae88e7",
   "metadata": {},
   "outputs": [
    {
     "data": {
      "text/plain": [
       "list"
      ]
     },
     "execution_count": 22,
     "metadata": {},
     "output_type": "execute_result"
    }
   ],
   "source": [
    "list_ex=[]\n",
    "\n",
    "type([])"
   ]
  },
  {
   "cell_type": "code",
   "execution_count": 25,
   "id": "c518249a-5fd0-4a2a-807f-093483bec260",
   "metadata": {},
   "outputs": [
    {
     "data": {
      "text/plain": [
       "list"
      ]
     },
     "execution_count": 25,
     "metadata": {},
     "output_type": "execute_result"
    }
   ],
   "source": [
    "lst =list()\n",
    "type(lst)\n"
   ]
  },
  {
   "cell_type": "code",
   "execution_count": 26,
   "id": "726bdde0-b29a-4d95-8ea7-c48878f04655",
   "metadata": {},
   "outputs": [
    {
     "data": {
      "text/plain": [
       "6"
      ]
     },
     "execution_count": 26,
     "metadata": {},
     "output_type": "execute_result"
    }
   ],
   "source": [
    "list=[\"python\",\"aws\",\"Java\",1,2,3]\n",
    "len(list)\n"
   ]
  },
  {
   "cell_type": "code",
   "execution_count": 27,
   "id": "cff61aae-fa8b-40d5-925a-f2fb1164251b",
   "metadata": {},
   "outputs": [],
   "source": [
    "#Append\n",
    "list.append(\"Genrative AI\")\n"
   ]
  },
  {
   "cell_type": "code",
   "execution_count": 28,
   "id": "ca40af18-8a06-43ad-a5d2-55bae70a70f5",
   "metadata": {},
   "outputs": [
    {
     "data": {
      "text/plain": [
       "7"
      ]
     },
     "execution_count": 28,
     "metadata": {},
     "output_type": "execute_result"
    }
   ],
   "source": [
    "len(list)"
   ]
  },
  {
   "cell_type": "code",
   "execution_count": 29,
   "id": "9b56568b-e972-4995-979b-2803ed0e4aac",
   "metadata": {},
   "outputs": [
    {
     "data": {
      "text/plain": [
       "['python', 'aws', 'Java', 1, 2, 3, 'Genrative AI']"
      ]
     },
     "execution_count": 29,
     "metadata": {},
     "output_type": "execute_result"
    }
   ],
   "source": [
    "list\n"
   ]
  },
  {
   "cell_type": "code",
   "execution_count": 30,
   "id": "59e45581-ca8d-44bc-947e-034cec995ece",
   "metadata": {},
   "outputs": [
    {
     "data": {
      "text/plain": [
       "['docker', 'python', 'aws', 'Java', 1, 2, 3, 'Genrative AI']"
      ]
     },
     "execution_count": 30,
     "metadata": {},
     "output_type": "execute_result"
    }
   ],
   "source": [
    "list.insert(0,\"docker\")\n",
    "list\n"
   ]
  },
  {
   "cell_type": "code",
   "execution_count": 31,
   "id": "7e10648f-dd9a-433d-a515-dc3cfb563915",
   "metadata": {},
   "outputs": [
    {
     "data": {
      "text/plain": [
       "'aws'"
      ]
     },
     "execution_count": 31,
     "metadata": {},
     "output_type": "execute_result"
    }
   ],
   "source": [
    "list[2]\n"
   ]
  },
  {
   "cell_type": "code",
   "execution_count": 32,
   "id": "4e899db0-7a25-4624-881c-fbf24c82b7ac",
   "metadata": {},
   "outputs": [
    {
     "data": {
      "text/plain": [
       "['docker', 'python', 'aws', 'Java', 1, 2, 3, 'Genrative AI']"
      ]
     },
     "execution_count": 32,
     "metadata": {},
     "output_type": "execute_result"
    }
   ],
   "source": [
    "list[:]\n"
   ]
  },
  {
   "cell_type": "code",
   "execution_count": 33,
   "id": "5b5bc50b-0b31-4ef0-825d-b4fe722e9b06",
   "metadata": {},
   "outputs": [
    {
     "data": {
      "text/plain": [
       "['docker']"
      ]
     },
     "execution_count": 33,
     "metadata": {},
     "output_type": "execute_result"
    }
   ],
   "source": [
    "list[:1]\n"
   ]
  },
  {
   "cell_type": "code",
   "execution_count": 34,
   "id": "0ec1bcb7-64f8-42a5-b227-b779816c4c5d",
   "metadata": {},
   "outputs": [
    {
     "data": {
      "text/plain": [
       "[1, 2, 3]"
      ]
     },
     "execution_count": 34,
     "metadata": {},
     "output_type": "execute_result"
    }
   ],
   "source": [
    "list[4:7]\n"
   ]
  },
  {
   "cell_type": "code",
   "execution_count": 36,
   "id": "114e6273-5e54-4154-a0e5-5d73d83ace91",
   "metadata": {},
   "outputs": [],
   "source": [
    "list.append([\"sql\",\"unix\"])\n"
   ]
  },
  {
   "cell_type": "code",
   "execution_count": 37,
   "id": "e6a30c8e-81b6-4c72-94c6-8523e9e19f0c",
   "metadata": {},
   "outputs": [
    {
     "data": {
      "text/plain": [
       "['docker', 'python', 'aws', 'Java', 1, 2, 3, 'Genrative AI', ['sql', 'unix']]"
      ]
     },
     "execution_count": 37,
     "metadata": {},
     "output_type": "execute_result"
    }
   ],
   "source": [
    "list\n"
   ]
  },
  {
   "cell_type": "code",
   "execution_count": 40,
   "id": "8213b6c1-38bc-4cce-aa94-dc62acc7053c",
   "metadata": {},
   "outputs": [
    {
     "data": {
      "text/plain": [
       "['docker',\n",
       " 'python',\n",
       " 'aws',\n",
       " 'Java',\n",
       " 1,\n",
       " 2,\n",
       " 3,\n",
       " 'Genrative AI',\n",
       " ['sql', 'unix'],\n",
       " 'jenkins',\n",
       " 'git']"
      ]
     },
     "execution_count": 40,
     "metadata": {},
     "output_type": "execute_result"
    }
   ],
   "source": [
    "list.extend([\"jenkins\",\"git\"])\n",
    "list"
   ]
  },
  {
   "cell_type": "code",
   "execution_count": 41,
   "id": "72eaa2db-6729-4853-8c38-572ec60229d2",
   "metadata": {},
   "outputs": [
    {
     "data": {
      "text/plain": [
       "'git'"
      ]
     },
     "execution_count": 41,
     "metadata": {},
     "output_type": "execute_result"
    }
   ],
   "source": [
    "list.pop()\n"
   ]
  },
  {
   "cell_type": "code",
   "execution_count": 42,
   "id": "0956c15f-24e4-40f4-a1bc-6d63cd226044",
   "metadata": {},
   "outputs": [
    {
     "data": {
      "text/plain": [
       "['docker',\n",
       " 'python',\n",
       " 'aws',\n",
       " 'Java',\n",
       " 1,\n",
       " 2,\n",
       " 3,\n",
       " 'Genrative AI',\n",
       " ['sql', 'unix'],\n",
       " 'jenkins']"
      ]
     },
     "execution_count": 42,
     "metadata": {},
     "output_type": "execute_result"
    }
   ],
   "source": [
    "list\n"
   ]
  },
  {
   "cell_type": "code",
   "execution_count": 43,
   "id": "3b8edee0-f87d-47a6-b17a-5141bbdfff76",
   "metadata": {},
   "outputs": [
    {
     "data": {
      "text/plain": [
       "['sql', 'unix']"
      ]
     },
     "execution_count": 43,
     "metadata": {},
     "output_type": "execute_result"
    }
   ],
   "source": [
    "list.pop(8)\n"
   ]
  },
  {
   "cell_type": "code",
   "execution_count": 44,
   "id": "7a4dba0d-eab2-4a5c-bac0-acc433f7aecc",
   "metadata": {},
   "outputs": [
    {
     "data": {
      "text/plain": [
       "['docker', 'python', 'aws', 'Java', 1, 2, 3, 'Genrative AI', 'jenkins']"
      ]
     },
     "execution_count": 44,
     "metadata": {},
     "output_type": "execute_result"
    }
   ],
   "source": [
    "list\n"
   ]
  },
  {
   "cell_type": "code",
   "execution_count": 45,
   "id": "e4480501-fbaa-4ef2-af3a-9b1ddd3d6443",
   "metadata": {},
   "outputs": [
    {
     "data": {
      "text/plain": [
       "5"
      ]
     },
     "execution_count": 45,
     "metadata": {},
     "output_type": "execute_result"
    }
   ],
   "source": [
    "list.index(2)\n"
   ]
  },
  {
   "cell_type": "code",
   "execution_count": 46,
   "id": "f2e7b350-b4e6-452b-976c-6c4c8bd9855d",
   "metadata": {},
   "outputs": [
    {
     "data": {
      "text/plain": [
       "1"
      ]
     },
     "execution_count": 46,
     "metadata": {},
     "output_type": "execute_result"
    }
   ],
   "source": [
    "list.index('python')\n"
   ]
  },
  {
   "cell_type": "code",
   "execution_count": 47,
   "id": "afa7e8ba-f465-4c25-8ebc-5b5e3544ee3d",
   "metadata": {},
   "outputs": [
    {
     "ename": "NameError",
     "evalue": "name 'python' is not defined",
     "output_type": "error",
     "traceback": [
      "\u001b[1;31m---------------------------------------------------------------------------\u001b[0m",
      "\u001b[1;31mNameError\u001b[0m                                 Traceback (most recent call last)",
      "Cell \u001b[1;32mIn[47], line 1\u001b[0m\n\u001b[1;32m----> 1\u001b[0m \u001b[38;5;28mlist\u001b[39m\u001b[38;5;241m.\u001b[39mindex(python)\n",
      "\u001b[1;31mNameError\u001b[0m: name 'python' is not defined"
     ]
    }
   ],
   "source": [
    "list.index(python)\n"
   ]
  },
  {
   "cell_type": "code",
   "execution_count": 48,
   "id": "bb6dfa75-4537-4747-8157-d5839c35ddff",
   "metadata": {},
   "outputs": [
    {
     "ename": "ValueError",
     "evalue": "'phanee' is not in list",
     "output_type": "error",
     "traceback": [
      "\u001b[1;31m---------------------------------------------------------------------------\u001b[0m",
      "\u001b[1;31mValueError\u001b[0m                                Traceback (most recent call last)",
      "Cell \u001b[1;32mIn[48], line 1\u001b[0m\n\u001b[1;32m----> 1\u001b[0m \u001b[38;5;28mlist\u001b[39m\u001b[38;5;241m.\u001b[39mindex(\u001b[38;5;124m\"\u001b[39m\u001b[38;5;124mphanee\u001b[39m\u001b[38;5;124m\"\u001b[39m)\n",
      "\u001b[1;31mValueError\u001b[0m: 'phanee' is not in list"
     ]
    }
   ],
   "source": [
    "list.index(\"phanee\")"
   ]
  },
  {
   "cell_type": "raw",
   "id": "0d1b82ca-bc16-4435-be81-5bad9770fe28",
   "metadata": {},
   "source": [
    "list"
   ]
  },
  {
   "cell_type": "code",
   "execution_count": 49,
   "id": "f100bf19-7cfd-40f0-bd84-fa1e1586836f",
   "metadata": {},
   "outputs": [],
   "source": [
    "lst=['docker', 'python', 'aws', 'Java', 1, 2, 3, 'Genrative AI', 'jenkins']\n"
   ]
  },
  {
   "cell_type": "code",
   "execution_count": 50,
   "id": "3401639f-a28c-46a9-8119-d103a12a20d0",
   "metadata": {},
   "outputs": [
    {
     "data": {
      "text/plain": [
       "['docker', 'python', 'aws', 'Java', 1, 2, 3, 'Genrative AI', 'jenkins']"
      ]
     },
     "execution_count": 50,
     "metadata": {},
     "output_type": "execute_result"
    }
   ],
   "source": [
    "lst"
   ]
  },
  {
   "cell_type": "code",
   "execution_count": 51,
   "id": "f5559ac5-d44d-44d0-a3d4-d34c7b6248c7",
   "metadata": {},
   "outputs": [
    {
     "data": {
      "text/plain": [
       "['docker',\n",
       " 'python',\n",
       " 'aws',\n",
       " 'Java',\n",
       " 1,\n",
       " 2,\n",
       " 3,\n",
       " 'Genrative AI',\n",
       " 'jenkins',\n",
       " 'docker',\n",
       " 'python',\n",
       " 'aws',\n",
       " 'Java',\n",
       " 1,\n",
       " 2,\n",
       " 3,\n",
       " 'Genrative AI',\n",
       " 'jenkins']"
      ]
     },
     "execution_count": 51,
     "metadata": {},
     "output_type": "execute_result"
    }
   ],
   "source": [
    "lst*2"
   ]
  },
  {
   "cell_type": "code",
   "execution_count": 52,
   "id": "3292a230-cd17-4e4d-9b96-8eaf2c2d89ff",
   "metadata": {},
   "outputs": [],
   "source": [
    "##Sets\n"
   ]
  },
  {
   "cell_type": "code",
   "execution_count": 53,
   "id": "730fe7a5-6023-4d47-96e5-4125fc6fadc1",
   "metadata": {},
   "outputs": [
    {
     "data": {
      "text/plain": [
       "{'mouli', 'phanee', 'vaisu'}"
      ]
     },
     "execution_count": 53,
     "metadata": {},
     "output_type": "execute_result"
    }
   ],
   "source": [
    "set_var={\"phanee\",\"mouli\",\"vaisu\"}\n",
    "set_var"
   ]
  },
  {
   "cell_type": "code",
   "execution_count": 54,
   "id": "93ff994c-bfbd-4ec2-97c9-4e5a3cc40a56",
   "metadata": {},
   "outputs": [
    {
     "data": {
      "text/plain": [
       "{1, 2, 3, 4}"
      ]
     },
     "execution_count": 54,
     "metadata": {},
     "output_type": "execute_result"
    }
   ],
   "source": [
    "set1={1,2,3,4,1}\n",
    "set1"
   ]
  },
  {
   "cell_type": "code",
   "execution_count": 55,
   "id": "ddb284b3-1b0c-4ade-ad30-27f53ddb4e52",
   "metadata": {},
   "outputs": [],
   "source": [
    "set1.add(5)\n"
   ]
  },
  {
   "cell_type": "code",
   "execution_count": 56,
   "id": "521feded-4f25-4bfe-9509-8922fb7f9c7a",
   "metadata": {},
   "outputs": [
    {
     "data": {
      "text/plain": [
       "{1, 2, 3, 4, 5}"
      ]
     },
     "execution_count": 56,
     "metadata": {},
     "output_type": "execute_result"
    }
   ],
   "source": [
    "set1\n"
   ]
  },
  {
   "cell_type": "code",
   "execution_count": 57,
   "id": "1268409e-ad8c-40d3-9164-dda8a433d073",
   "metadata": {},
   "outputs": [
    {
     "data": {
      "text/plain": [
       "{1, 2, 3, 4, 5, 6, 7}"
      ]
     },
     "execution_count": 57,
     "metadata": {},
     "output_type": "execute_result"
    }
   ],
   "source": [
    "set2={1,2,3,4,5,6,7}\n",
    "set2"
   ]
  },
  {
   "cell_type": "code",
   "execution_count": 59,
   "id": "7b5f5cf3-db59-445d-ae59-90610fd8f557",
   "metadata": {},
   "outputs": [],
   "source": [
    "set1.difference(set2);\n"
   ]
  },
  {
   "cell_type": "code",
   "execution_count": 61,
   "id": "49ea3d20-b362-40d2-b58b-92d30a1a558f",
   "metadata": {},
   "outputs": [
    {
     "data": {
      "text/plain": [
       "{6, 7}"
      ]
     },
     "execution_count": 61,
     "metadata": {},
     "output_type": "execute_result"
    }
   ],
   "source": [
    "set2.difference(set1)"
   ]
  },
  {
   "cell_type": "code",
   "execution_count": 68,
   "id": "7de3185a-9b9b-4c32-b2d7-bc46a8f5f3f8",
   "metadata": {},
   "outputs": [],
   "source": [
    "set2={1,2,3,4,5,6,7}"
   ]
  },
  {
   "cell_type": "code",
   "execution_count": 69,
   "id": "c5cdf70b-5b4f-4a15-986b-4bdfd023b9ca",
   "metadata": {},
   "outputs": [],
   "source": [
    "set2.difference_update(set1)\n"
   ]
  },
  {
   "cell_type": "code",
   "execution_count": 70,
   "id": "a88b01e1-2ad5-4abd-9e25-69547768b772",
   "metadata": {},
   "outputs": [
    {
     "data": {
      "text/plain": [
       "{6, 7}"
      ]
     },
     "execution_count": 70,
     "metadata": {},
     "output_type": "execute_result"
    }
   ],
   "source": [
    "set2"
   ]
  },
  {
   "cell_type": "code",
   "execution_count": 71,
   "id": "740f648c-81c7-4822-bb53-f0724ba4a9ac",
   "metadata": {},
   "outputs": [
    {
     "data": {
      "text/plain": [
       "set()"
      ]
     },
     "execution_count": 71,
     "metadata": {},
     "output_type": "execute_result"
    }
   ],
   "source": [
    "set2.intersection(set1)"
   ]
  },
  {
   "cell_type": "code",
   "execution_count": null,
   "id": "ad0d7917-3e16-49e6-a178-47248edb67cb",
   "metadata": {},
   "outputs": [],
   "source": [
    "#Dictionaries\n",
    "\n"
   ]
  },
  {
   "cell_type": "code",
   "execution_count": 72,
   "id": "f4937a6c-80cf-4266-88ae-df26cc8a30cf",
   "metadata": {},
   "outputs": [
    {
     "data": {
      "text/plain": [
       "dict"
      ]
     },
     "execution_count": 72,
     "metadata": {},
     "output_type": "execute_result"
    }
   ],
   "source": [
    "dic={\"first_nam\":\"phanee\",\"second_name\":\"cherkup\"}\n",
    "type(dic)"
   ]
  },
  {
   "cell_type": "code",
   "execution_count": 74,
   "id": "ac9133e9-87ac-495f-aaf4-b81f0ab91bdb",
   "metadata": {},
   "outputs": [
    {
     "data": {
      "text/plain": [
       "'phanee'"
      ]
     },
     "execution_count": 74,
     "metadata": {},
     "output_type": "execute_result"
    }
   ],
   "source": [
    "dic['first_nam']"
   ]
  },
  {
   "cell_type": "code",
   "execution_count": 75,
   "id": "3ee90f43-a89a-4740-8e35-78a88fb20c3a",
   "metadata": {},
   "outputs": [],
   "source": [
    "dic['office']='dtcc'"
   ]
  },
  {
   "cell_type": "code",
   "execution_count": 76,
   "id": "e482010c-e2a5-402f-ad60-c673fb2099db",
   "metadata": {},
   "outputs": [
    {
     "data": {
      "text/plain": [
       "{'first_nam': 'phanee', 'second_name': 'cherkup', 'office': 'dtcc'}"
      ]
     },
     "execution_count": 76,
     "metadata": {},
     "output_type": "execute_result"
    }
   ],
   "source": [
    "dic"
   ]
  },
  {
   "cell_type": "code",
   "execution_count": 77,
   "id": "dae5093a-76f6-403e-bcb8-d2558614ed81",
   "metadata": {},
   "outputs": [],
   "source": [
    "dic['office']='Microsoft'"
   ]
  },
  {
   "cell_type": "code",
   "execution_count": 78,
   "id": "6cb953c4-33ac-49c7-916f-d74c729e552b",
   "metadata": {},
   "outputs": [
    {
     "data": {
      "text/plain": [
       "{'first_nam': 'phanee', 'second_name': 'cherkup', 'office': 'Microsoft'}"
      ]
     },
     "execution_count": 78,
     "metadata": {},
     "output_type": "execute_result"
    }
   ],
   "source": [
    "dic"
   ]
  },
  {
   "cell_type": "code",
   "execution_count": 80,
   "id": "d75a559a-a2bd-4a88-b559-0c96420f32d7",
   "metadata": {},
   "outputs": [],
   "source": [
    "###Tuples###################\n",
    "#Mutable and cannot change  \n",
    "#use round braces\n"
   ]
  },
  {
   "cell_type": "code",
   "execution_count": 82,
   "id": "6374e996-1352-449f-ae09-a9e8b206db83",
   "metadata": {},
   "outputs": [],
   "source": [
    "my_tuple=('Hello','World')"
   ]
  },
  {
   "cell_type": "code",
   "execution_count": 83,
   "id": "30208385-9e79-4d4f-8f0e-963530c2a2f3",
   "metadata": {},
   "outputs": [
    {
     "data": {
      "text/plain": [
       "('Hello', 'World')"
      ]
     },
     "execution_count": 83,
     "metadata": {},
     "output_type": "execute_result"
    }
   ],
   "source": [
    "my_tuple"
   ]
  },
  {
   "cell_type": "code",
   "execution_count": 84,
   "id": "4c944705-e72f-485f-b6fa-c0d7e0d50fd6",
   "metadata": {},
   "outputs": [
    {
     "ename": "TypeError",
     "evalue": "'tuple' object is not callable",
     "output_type": "error",
     "traceback": [
      "\u001b[1;31m---------------------------------------------------------------------------\u001b[0m",
      "\u001b[1;31mTypeError\u001b[0m                                 Traceback (most recent call last)",
      "Cell \u001b[1;32mIn[84], line 1\u001b[0m\n\u001b[1;32m----> 1\u001b[0m my_tuple(\u001b[38;5;124m'\u001b[39m\u001b[38;5;124mChennai\u001b[39m\u001b[38;5;124m'\u001b[39m)\n",
      "\u001b[1;31mTypeError\u001b[0m: 'tuple' object is not callable"
     ]
    }
   ],
   "source": [
    "my_tuple('Chennai')"
   ]
  },
  {
   "cell_type": "code",
   "execution_count": null,
   "id": "d3302bc5-2878-4d6c-a488-9e8c4e85e65f",
   "metadata": {},
   "outputs": [],
   "source": []
  },
  {
   "cell_type": "code",
   "execution_count": null,
   "id": "cf5f04e3-1c30-42ba-8bb3-e9e55d722f80",
   "metadata": {},
   "outputs": [],
   "source": []
  },
  {
   "cell_type": "code",
   "execution_count": null,
   "id": "4045fb23-6e7a-45b1-ac2b-417142bb55ee",
   "metadata": {},
   "outputs": [],
   "source": []
  },
  {
   "cell_type": "code",
   "execution_count": null,
   "id": "e73f903f-d854-4d91-b8f1-0a5c029f012b",
   "metadata": {},
   "outputs": [],
   "source": []
  }
 ],
 "metadata": {
  "kernelspec": {
   "display_name": "Python 3 (ipykernel)",
   "language": "python",
   "name": "python3"
  },
  "language_info": {
   "codemirror_mode": {
    "name": "ipython",
    "version": 3
   },
   "file_extension": ".py",
   "mimetype": "text/x-python",
   "name": "python",
   "nbconvert_exporter": "python",
   "pygments_lexer": "ipython3",
   "version": "3.11.7"
  }
 },
 "nbformat": 4,
 "nbformat_minor": 5
}
